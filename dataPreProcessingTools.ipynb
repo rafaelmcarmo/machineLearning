#importing libraries

import numpy as np
import matplotlib.pyplot as plt
import pandas as pd

#importing a dataset

dataset = pd.read_csv('Data.csv')
#locate index of the features (collums and rows) / ':' stands for range method
x = dataset.iloc[:, :-1].values
#dependent variable (What we want to predict 'last column')
y = dataset.iloc[:, -1].values

#printing features

print(x)

#printing dependent variable

print(y)

#this object will allow to replace missing values (salaries and age) by the average value (of the salaries and ages)
from sklearn.impute import SimpleImputer #sklearn is a library which defines various unsupervised and supervised learning algorithms. SimpleImputer is one of them.
imputer = SimpleImputer(missing_values=np.nan, strategy='mean') #define the object of the class
imputer.fit(x[:,1:3])
x[:,1:3] = imputer.transform(x[:,1:3])

print(x)

#encoding the independent variable

from sklearn.compose import ColumnTransformer
from sklearn.preprocessing import OneHotEncoder
#create object of the ColumnTransformer class
ct = ColumnTransformer(transformers=[('encoder', OneHotEncoder(), [0])], remainder='passthrough')
x = np.array(ct.fit_transform(x))

print(x)

#encoding the dependent variable

from sklearn.preprocessing import LabelEncoder
le = LabelEncoder()
y = le.fit_transform(y)

print(y)

#Splitting the dataset into the training set and test set

from sklearn.model_selection import train_test_split
x_train, x_test, y_train, y_test = train_test_split(x, y, test_size = 0.2, random_state = 1)

print(x_train)

print(x_test)

print(y_train)

print(y_test)

#Apply feature scaling (stardardization)

from sklearn.preprocessing import StandardScaler
sc = StandardScaler()
x_train[:, 3:] = sc.fit_transform(x_train[:, 3:])
x_test[:, 3:] = sc.transform(x_test[:, 3:])

print(x_train)

print(x_test)
